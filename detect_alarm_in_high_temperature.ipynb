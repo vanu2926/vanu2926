{
  "nbformat": 4,
  "nbformat_minor": 0,
  "metadata": {
    "colab": {
      "provenance": [],
      "collapsed_sections": []
    },
    "kernelspec": {
      "name": "python3",
      "display_name": "Python 3"
    },
    "language_info": {
      "name": "python"
    }
  },
  "cells": [
    {
      "cell_type": "code",
      "source": [],
      "metadata": {
        "id": "pTuSB2VgOqZt"
      },
      "execution_count": 2,
      "outputs": []
    },
    {
      "cell_type": "code",
      "execution_count": 5,
      "metadata": {
        "colab": {
          "base_uri": "https://localhost:8080/"
        },
        "id": "CbzgBTXNOgTz",
        "outputId": "e71acadb-9d46-45a7-e558-c54974f9c21e"
      },
      "outputs": [
        {
          "output_type": "stream",
          "name": "stdout",
          "text": [
            "high temprature and humidity of: 79 98 % alarmis on\n",
            "high temprature and humidity of: 99 71 % alarmis on\n",
            "high temprature and humidity of: 96 94 % alarmis on\n",
            "high temprature and humidity of: 53 87 % alarmis on\n",
            "high temprature and humidity of: 60 65 % alarmis on\n",
            "high temprature and humidity of: 55 96 % alarmis on\n",
            "Normal temprature and humidity of: 16 24 % alarmis off\n"
          ]
        }
      ],
      "source": [
        "import random\n",
        "while(True):\n",
        "  a=random.randint(10,99)\n",
        "  b=random.randint(10,99) \n",
        "  if(a>35 and b>60):\n",
        "      print(\"high temprature and humidity of:\",a,b,\"%\",\"alarmis on\") \n",
        "  elif(a<35 and b<60):\n",
        "       print(\"Normal temprature and humidity of:\",a,b,\"%\",\"alarmis off\") \n",
        "       break"
      ]
    },
    {
      "cell_type": "code",
      "source": [],
      "metadata": {
        "id": "dR4X_HM3Opx7"
      },
      "execution_count": null,
      "outputs": []
    }
  ]
}